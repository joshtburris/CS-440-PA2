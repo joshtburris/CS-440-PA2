{
 "cells": [
  {
   "cell_type": "markdown",
   "metadata": {},
   "source": [
    "# Assignment 2:  solving puzzles with search\n"
   ]
  },
  {
   "cell_type": "markdown",
   "metadata": {},
   "source": [
    "Joshua Burris"
   ]
  },
  {
   "cell_type": "markdown",
   "metadata": {},
   "source": [
    "In this assignment we will solve a sliding block puzzle not unlike the Eight Puzzle that we have seen in class.  The puzzle is called \"Making two L's meet\".  It's played on a 5 x 5 grid with nine pieces that are placed as follows:![](https://www.cs.colostate.edu/~cs440/fall19/assignments/images/initial.png)"
   ]
  },
  {
   "cell_type": "markdown",
   "metadata": {},
   "source": [
    "The pieces are numbered from 1 to 9, and the two L-shaped pieces are numbered 2 and 7.  The un-numbered regions are empty.  A piece can be moved into an adjacent empty space that can accommodate it.  For example, piece number 9 can be moved left or right, and piece number 7 can be moved down.  Note that pieces 1,2,7,8 take up three squares, 3,4,5,6 take up two squares, and 9 takes up a single square.  The following is an example of a valid solution to the puzzle:\n",
    "![](https://www.cs.colostate.edu/~cs440/fall19/assignments/images/goal.png)"
   ]
  },
  {
   "cell_type": "markdown",
   "metadata": {},
   "source": [
    "To write a program that solves the puzzle we need to define the possible actions at a given state.  Whereas for the Eight Puzzle, an action could be specified by the direction in which the empty square is moved, this is no longer possible in this puzzle.  Here an action is a tuple `(piece, direction)` where `piece` is the piece that needs to be moved, numbered between 1 and 9, and `direction` is one of `'UP', 'DOWN', 'LEFT', 'RIGHT'`."
   ]
  },
  {
   "cell_type": "markdown",
   "metadata": {},
   "source": [
    "As discussed in class, uninformed search can be costly to run.  Therefore we will focus on solving this problem using the A* algorithm.  For that, you will need to propose and implement heuristics that will assist the algorithm in finding the solution in a timely manner."
   ]
  },
  {
   "cell_type": "markdown",
   "metadata": {},
   "source": [
    "For your implementation use the code provide in `search.py`.  Using this framework, what you need to do is to write a class that inherits from the generic class `Problem`.  We'll call that class `two_Ls`.  A stub that you need to complete is provided below.  You will need to add methods that will allow you to solve the puzzle with the search algorithms implemented in `search.py`.  \n"
   ]
  },
  {
   "cell_type": "code",
   "execution_count": 33,
   "metadata": {},
   "outputs": [],
   "source": [
    "import search\n",
    "from search import Problem\n",
    "\n",
    "moves = {'UP': -5, 'DOWN': 5, 'LEFT': -1, 'RIGHT': 1}\n",
    "\n",
    "class two_Ls(Problem) :\n",
    "    \"\"\"\n",
    "    A class that encapsulates the 'Making two Ls meet' puzzle\n",
    "    \"\"\"\n",
    "    # fill in the necessary methods to make the class work in conjuntion\n",
    "    # with search functions in search.py\n",
    "    # this incl. methods such as actions, goal_test etc.\n",
    "    # see the implementation of EightPuzzle in search.py for an example\n",
    "    # you can follow\n",
    "    def __init__(self, initial=(1,1,1,2,2, 3,3,4,4,2, 7,5,5,6,6, 7,7,8,8,8, 0,0,0,9,0)) :\n",
    "        self.initial = initial\n",
    "        #Problem.__init__(self, initial)\n",
    "    \n",
    "    def actions(self, state) :\n",
    "        actions = []\n",
    "        block_sizes = [3, 3, 2, 2, 2, 2, 3, 3, 1]\n",
    "        for key, value in moves.items() :\n",
    "            block_inc = [0]*9\n",
    "            for i in range(len(state)) :\n",
    "                if state[i] >= 1 :\n",
    "                    if not is_oob(i, i+value) and (state[i+value] == 0 or state[i+value] == state[i]) :\n",
    "                        block_inc[state[i]-1] += 1\n",
    "                        if block_inc[state[i]-1] == block_sizes[state[i]-1] :\n",
    "                            actions += [(state[i], key)]\n",
    "        return actions\n",
    "    \n",
    "    def result(self, state, action) :\n",
    "        new_state = list(state)\n",
    "        changed = []\n",
    "        for i in range(len(state)) :\n",
    "            if state[i] == action[0] :\n",
    "                if i not in changed :\n",
    "                    new_state[i] = 0\n",
    "                new_square = i+moves[action[1]]\n",
    "                new_state[new_square] = state[i]\n",
    "                changed.append(new_square)\n",
    "        return tuple(new_state)\n",
    "    \n",
    "    def goal_test(self, state) :\n",
    "        seven_index = state.index(7)\n",
    "        if is_oob(seven_index, seven_index+moves['RIGHT']) :\n",
    "            return False\n",
    "        if state[seven_index+moves['RIGHT']] == 2 :\n",
    "            return True\n",
    "        return False\n",
    "    \n",
    "    def path_cost(self, c, state1, action, state2) :\n",
    "        return c + 1\n",
    "    \n",
    "    def value(self, state) :\n",
    "        return 5 - distance(state.index(7), state.index(2)) - 1"
   ]
  },
  {
   "cell_type": "markdown",
   "metadata": {},
   "source": [
    "In the following two cells, implement and describe two admissible heuristics for the problem.  Explain why they are admissible.  Make sure that the two heuristics are distinct from each other and capture different notions of the idea of a \"good search direction\"."
   ]
  },
  {
   "cell_type": "code",
   "execution_count": 34,
   "metadata": {},
   "outputs": [],
   "source": [
    "def h1(node) :\n",
    "    return distance(node.state.index(7), node.state.index(2)) - 1\n",
    "\n",
    "def h2(node) :\n",
    "    twos = []\n",
    "    sevens = []\n",
    "    for i in range(len(node.state)) :\n",
    "        if node.state[i] == 2 :\n",
    "            twos.append(i)\n",
    "        elif node.state[i] == 7 :\n",
    "            sevens.append(i)\n",
    "    \n",
    "    r2 = get_row(twos[1]); r7 = get_row(sevens[1])\n",
    "    start_row = min(r2, r7); end_row = max(r2, r7)\n",
    "    c2 = get_column(twos[1]); c7 = get_column(sevens[1])\n",
    "    start_col = min(c2, c7); end_col = max(c2, c7)\n",
    "    \n",
    "    sum = 0\n",
    "    for i in range(len(node.state)) :\n",
    "        r = get_row(i)\n",
    "        c = get_column(i)\n",
    "        if r >= start_row and r <= end_row and c >= start_col and c <= end_col :\n",
    "            s = node.state[i]\n",
    "            if s != 2 and s != 7 and s != 0 :\n",
    "                sum += 1\n",
    "    return sum\n",
    "\n",
    "def max_h(node) :\n",
    "    return max(h1(node), h2(node))\n",
    "\n",
    "def is_oob(start, end) :\n",
    "    if end < 0 :\n",
    "        return True\n",
    "    if end >= 25 :\n",
    "        return True\n",
    "    if (start % 5) == 0 and end == (start-1) :\n",
    "        return True\n",
    "    if ((start+1) % 5) == 0 and end == (start+1) :\n",
    "        return True\n",
    "    return False\n",
    "\n",
    "def distance(start, end) :\n",
    "    return abs(get_column(end) - get_column(start)) + abs(get_row(end) - get_row(start))\n",
    "\n",
    "def get_column(i) :\n",
    "    return i % 5\n",
    "\n",
    "def get_row(i) :\n",
    "    row = 0\n",
    "    tmp = i\n",
    "    for j in range(5) :\n",
    "        if tmp < 5 :\n",
    "            return row\n",
    "        tmp -= 5\n",
    "        row += 1\n",
    "\n",
    "def print_state(state) :\n",
    "    for i in range(5) :\n",
    "        s = \"|\"\n",
    "        for j in range(5) :\n",
    "            s += str(state[j + (5*i)]) + \"|\"\n",
    "        print(s)"
   ]
  },
  {
   "cell_type": "markdown",
   "metadata": {},
   "source": [
    "**Description of your heuristics and why they are admissible**\n",
    "\n",
    "*L2 = the L made of twos, L7 = the L made of sevens*\n",
    "\n",
    "**h1**: This heuristic finds the number of squares away L2 and L7 are from touching each other. It encourages actions that bring L2 and L7 closer together, and discourages actions where they move further apart. This is a pretty basic function that trims a lot of branches that would be absolutely useless, like moving L7 further away from L2.\n",
    "\n",
    "**h2**: This heuristic was designed to encourage actions that actually move block out of the way of L2 and L7. It counts the number of blocks (excluding 0 squares) between L2 and L7, and if a block is standing between them and can be moved out of the way, then it should be. It also discourages moving blocks between L2 and L7, or moving them further apart. Possibly freeing up a chance for L2 and L7 to come together sooner. It doesn't necessarily force L2 and L7 to come together when they are close, it only affects other blocks standing between them.\n",
    "\n",
    "**Admissibility**:\n",
    "I believe these functions are admissible and will never overestimate the cost of reaching the goal because in h1, L2 and L7 will always be at least h1 moves away from each other. If they are sitting in opposite corners of the game board then the minimum number of moves to reach each other will be 5, which is the value of h1. With h2, the cost of L7 reaching L2 might start high but it will go down accordingly as blocks are moved out of the way. If there are no blocks in the way then the cost is 0, even if L7 or L2 still have to move to reach each other. "
   ]
  },
  {
   "cell_type": "markdown",
   "metadata": {},
   "source": [
    "Given the above code that you have written, you can now solve the puzzle.  Fill in the following method that is supposed to return a list of actions, that when applied to the initial state, will lead to a goal state:"
   ]
  },
  {
   "cell_type": "code",
   "execution_count": 35,
   "metadata": {},
   "outputs": [],
   "source": [
    "def solve_puzzle(puzzle) :\n",
    "    \"\"\"Receives an instance of the class two_Ls and returns\n",
    "    a list of actions, that when applied to an initial state, lead to a \n",
    "    goal state.\n",
    "    \"\"\"\n",
    "    return search.astar_search(puzzle, max_h).solution()"
   ]
  },
  {
   "cell_type": "markdown",
   "metadata": {},
   "source": [
    "Note that the list `[(9, 'RIGHT'), (7, 'DOWN'), (8, 'LEFT')]` comprises the first three actions found by our solution to the problem."
   ]
  },
  {
   "cell_type": "markdown",
   "metadata": {},
   "source": [
    "To test your `solve_puzzle` we will test whether the state/action sequence returned by the method is valid under the rules of the puzzle, and that they lead to a solution.  We will also test your `two_Ls` class in detail."
   ]
  },
  {
   "cell_type": "markdown",
   "metadata": {},
   "source": [
    "Answer the following:\n",
    "\n",
    "* Run your code, and compare the number of nodes expanded by A* with the heuristics you have proposed.  \n",
    "* Which heuristic worked better?  Can you explain why?  \n",
    "* Do you expect DFS or BFS to yield a result in a reasonable amount of time?  Explain!\n",
    "\n",
    "For retrieving the number of nodes expanded during the search, you may use the `InstrumentedProblem` class in `search.py`.\n"
   ]
  },
  {
   "cell_type": "code",
   "execution_count": 36,
   "metadata": {
    "scrolled": false
   },
   "outputs": [
    {
     "name": "stdout",
     "output_type": "stream",
     "text": [
      "Nodes expanded using h1: 28984\n",
      "Nodes expanded using h2: 4319\n",
      "Nodes expanded using maximum heuristics: 4311\n"
     ]
    }
   ],
   "source": [
    "# your code for comparing heuristics\n",
    "puzzle = two_Ls((1,1,1,2,2, 3,3,4,4,2, 7,5,5,6,6, 7,7,8,8,8, 0,0,0,9,0))\n",
    "\n",
    "# Nodes expanded in A* search with heuristic h1\n",
    "inst = search.InstrumentedProblem(puzzle)\n",
    "search.astar_search(inst, h1)\n",
    "print(\"Nodes expanded using h1:\", inst.states)\n",
    "\n",
    "# Nodes expanded in A* search with heuristic h2\n",
    "inst = search.InstrumentedProblem(puzzle)\n",
    "search.astar_search(inst, h2)\n",
    "print(\"Nodes expanded using h2:\", inst.states)\n",
    "\n",
    "# Nodes expanded in A* search with maximum heuristics\n",
    "inst = search.InstrumentedProblem(puzzle)\n",
    "result = search.astar_search(inst, max_h)\n",
    "print(\"Nodes expanded using maximum heuristics:\", inst.states)"
   ]
  },
  {
   "cell_type": "markdown",
   "metadata": {},
   "source": [
    "**Results**:\n",
    "\n",
    "Nodes expanded using h1: 28984\n",
    "\n",
    "Nodes expanded using h2: 4319\n",
    "\n",
    "Nodes expanded using maximum heuristics: 4311\n",
    "\n",
    "**Explanation**:\n",
    "\n",
    "h2 worked better than h1 I believe because it affected more blocks. h1 only tried to get L2 and L7 to move closer together on their own, but h2 actually moved all blocks to some extent. h2 had a much greater probability of knowing which of the possible blocks that could move, should be moved, and in which direction. h1 would never know that it had to move a block out of the way for L7 to get to L2, it would try them all. But h2 doesn't know when to move L7 toward L2 because there might be the same number of 0 squares between them when it moves.\n",
    "\n",
    "I expect DFS to work much better because going out and trying every single possible action of a node seems like a huge waste of time and defeats the point of heuristics, which is to build a path down a tree and not take unnecessary turns going branch to branch."
   ]
  },
  {
   "cell_type": "markdown",
   "metadata": {},
   "source": [
    "## Grading\n",
    "\n",
    "Your notebook will be run and graded automatically.  So make sure your code satisfies the specified API, i.e. correct naming and behavior of your methods and classes.  In addition, the TAs will read the description of the heuristics.  \n",
    "\n",
    "Grading Rubric:\n",
    "\n",
    "60 pts:  Correctness of your code for solving the puzzle.\n",
    "\n",
    "20 pts:  The proposed heuristics make sense, are distinct, and their admissibility is discussed in a convincing manner.\n",
    "\n",
    "20 pts:  Comparison of the heuristics and discussion of your results"
   ]
  }
 ],
 "metadata": {
  "kernelspec": {
   "display_name": "Python 3",
   "language": "python",
   "name": "python3"
  },
  "language_info": {
   "codemirror_mode": {
    "name": "ipython",
    "version": 3
   },
   "file_extension": ".py",
   "mimetype": "text/x-python",
   "name": "python",
   "nbconvert_exporter": "python",
   "pygments_lexer": "ipython3",
   "version": "3.7.3"
  }
 },
 "nbformat": 4,
 "nbformat_minor": 2
}
